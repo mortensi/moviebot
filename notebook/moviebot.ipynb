{
 "cells": [
  {
   "cell_type": "code",
   "execution_count": 4,
   "id": "087aa30e-f8a0-4f37-a28f-a6eb9b2df063",
   "metadata": {},
   "outputs": [
    {
     "name": "stderr",
     "output_type": "stream",
     "text": [
      "/Users/mortensi/venvs/ps/lib/python3.9/site-packages/urllib3/__init__.py:34: NotOpenSSLWarning: urllib3 v2.0 only supports OpenSSL 1.1.1+, currently the 'ssl' module is compiled with 'LibreSSL 2.8.3'. See: https://github.com/urllib3/urllib3/issues/3020\n",
      "  warnings.warn(\n"
     ]
    }
   ],
   "source": [
    "import redis\n",
    "import csv\n",
    "import numpy as np\n",
    "from sentence_transformers import SentenceTransformer\n",
    "from redis.commands.search.query import Query\n",
    "from redis.commands.search.field import TextField, TagField, VectorField\n",
    "from redis.commands.search.indexDefinition import IndexDefinition, IndexType\n",
    "import openai\n",
    "import tiktoken\n",
    "\n",
    "VSS_MINIMUM_SCORE=2"
   ]
  },
  {
   "cell_type": "code",
   "execution_count": 8,
   "id": "abdaee35-cf4e-4e5e-998f-54a578477729",
   "metadata": {},
   "outputs": [
    {
     "name": "stdout",
     "output_type": "stream",
     "text": [
      "True\n"
     ]
    }
   ],
   "source": [
    "conn = redis.Redis(host='localhost', port=6380, decode_responses=True)\n",
    "print(conn.ping())"
   ]
  },
  {
   "cell_type": "code",
   "execution_count": 16,
   "id": "68a77fe9-5faa-464e-ba7c-e0e906580475",
   "metadata": {},
   "outputs": [],
   "source": [
    "def load():\n",
    "    with open(\"imdb_movies.csv\", encoding='utf-8') as csvf:\n",
    "        csvReader = csv.DictReader(csvf)\n",
    "        cnt = 0\n",
    "        for row in csvReader:\n",
    "            conn.json().set(f'moviebot:movie:{cnt}', '$', row)\n",
    "            cnt = cnt + 1\n",
    "        print(\"Data was loaded\")"
   ]
  },
  {
   "cell_type": "code",
   "execution_count": 24,
   "id": "89fdaa2a-7098-4092-ae65-bd3d824b0eab",
   "metadata": {},
   "outputs": [],
   "source": [
    "def create_index():\n",
    "    indexes = conn.execute_command(\"FT._LIST\")\n",
    "    print(indexes)\n",
    "    if \"movie_idx\" not in indexes:\n",
    "        index_def = IndexDefinition(prefix=[\"moviebot:movie:\"], index_type=IndexType.JSON)\n",
    "        schema = (TextField(\"$.crew\", as_name=\"crew\"),\n",
    "                  TextField(\"$.overview\", as_name=\"overview\"),\n",
    "                  TagField(\"$.genre\", as_name=\"genre\"),\n",
    "                  TagField(\"$.names\", as_name=\"names\"),\n",
    "                  VectorField(\"$.overview_embedding\", \"HNSW\", {\"TYPE\": \"FLOAT32\", \"DIM\": 384, \"DISTANCE_METRIC\": \"L2\"}, as_name=\"embedding\"))\n",
    "        conn.ft('movie_idx').create_index(schema, definition=index_def)\n",
    "        print(\"The index has been created\")\n",
    "    else:\n",
    "        print(\"The index exists\")"
   ]
  },
  {
   "cell_type": "code",
   "execution_count": 34,
   "id": "405d7847-3528-4f9c-a49c-9e80fbf1790c",
   "metadata": {},
   "outputs": [],
   "source": [
    "def create_embeddings():\n",
    "    model = SentenceTransformer('sentence-transformers/all-MiniLM-L6-v2')\n",
    "    for key in conn.scan_iter(match='moviebot:movie:*'):\n",
    "        print(f\"creating the embedding for {key}\")\n",
    "        result = conn.json().get(key, \"$.names\", \"$.overview\", \"$.crew\", \"$.score\", \"$.genre\")\n",
    "        movie = f\"movie title is: {result['$.names'][0]}\\n\"\n",
    "        movie += f\"movie genre is: {result['$.genre'][0]}\\n\"\n",
    "        movie += f\"movie crew is: {result['$.crew'][0]}\\n\"\n",
    "        movie += f\"movie score is: {result['$.score'][0]}\\n\"\n",
    "        movie += f\"movie overview is: {result['$.overview'][0]}\\n\"\n",
    "        movie += f\"movie overview is: {result['$.overview'][0]}\\n\"\n",
    "        conn.json().set(key, \"$.overview_embedding\", model.encode(movie).astype(np.float32).tolist())"
   ]
  },
  {
   "cell_type": "code",
   "execution_count": 5,
   "id": "739df3db-d187-44ca-bc2c-f57d1cfa1852",
   "metadata": {},
   "outputs": [],
   "source": [
    "def get_prompt(model, query):\n",
    "    context = \"\"\n",
    "    prompt = \"\"\n",
    "    q = Query(\"@embedding:[VECTOR_RANGE $radius $vec]=>{$YIELD_DISTANCE_AS: score}\") \\\n",
    "        .sort_by(\"score\", asc=True) \\\n",
    "        .return_fields(\"overview\", \"names\", \"score\", \"$.crew\", \"$.genre\", \"$.score\") \\\n",
    "        .paging(0, 3) \\\n",
    "        .dialect(2)\n",
    "\n",
    "    # Find all vectors within VSS_MINIMUM_SCORE of the query vector\n",
    "    query_params = {\n",
    "        \"radius\": VSS_MINIMUM_SCORE,\n",
    "        \"vec\": model.encode(query).astype(np.float32).tobytes()\n",
    "    }\n",
    "\n",
    "    res = conn.ft(\"movie_idx\").search(q, query_params)\n",
    "\n",
    "    if (res is not None) and len(res.docs):\n",
    "        it = iter(res.docs[0:])\n",
    "        for x in it:\n",
    "            # print(\"the score is: \" + str(x['score']))\n",
    "            movie = f\"movie title is: {x['names']}\\n\"\n",
    "            movie += f\"movie genre is: {x['$.genre']}\\n\"\n",
    "            movie += f\"movie crew is: {x['$.crew']}\\n\"\n",
    "            movie += f\"movie score is: {x['$.score']}\\n\"\n",
    "            movie += f\"movie overview is: {x['overview']}\\n\"\n",
    "            context += movie + \"\\n\"\n",
    "\n",
    "    if len(context) > 0:\n",
    "        prompt = '''Use the provided information to answer the search query the user has sent.\n",
    "            The information in the database provides three movies, chose the one or the ones that fit most.\n",
    "            If you can't answer the user's question, say \"Sorry, I am unable to answer the question, try to refine your question\". Do not guess. You must deduce the answer exclusively from the information provided. \n",
    "            The answer must be formatted in markdown or HTML.\n",
    "            Do not make things up. Do not add personal opinions. Do not add any disclaimer.\n",
    "\n",
    "            Search query: \n",
    "\n",
    "            {}\n",
    "\n",
    "            Information in the database: \n",
    "\n",
    "            {}\n",
    "            '''.format(query, context)\n",
    "\n",
    "    return prompt"
   ]
  },
  {
   "cell_type": "code",
   "execution_count": 14,
   "id": "d1ec0d4f-1293-4eb7-a066-adde4dc1cc9b",
   "metadata": {},
   "outputs": [],
   "source": [
    "def getOpenAIGPT35(prompt):\n",
    "    # Define the system message\n",
    "    system_msg = 'You are a smart and knowledgeable AI assistant with an expertise in all kind of movies. You are a very friendly and helpful AI. You are empowered to recommend movies based on the provided context. Do NOT make anything up. Do NOT engage in topics that are not about movies.';\n",
    "\n",
    "    encoding = tiktoken.encoding_for_model(\"gpt-3.5-turbo-0613\")\n",
    "    # print(\"tokens: \" + str(num_tokens_from_string(prompt, \"cl100k_base\")))\n",
    "\n",
    "    try:\n",
    "        response = openai.ChatCompletion.create(model=\"gpt-3.5-turbo-0613\",\n",
    "                                                stream=False,\n",
    "                                                messages=[{\"role\": \"system\", \"content\": system_msg},\n",
    "                                                          {\"role\": \"user\", \"content\": prompt}])\n",
    "        return response[\"choices\"][0][\"message\"][\"content\"]\n",
    "    except openai.error.OpenAIError as e:\n",
    "        # Handle the error here\n",
    "        if \"context window is too large\" in str(e):\n",
    "            print(\"Error: Maximum context length exceeded. Please shorten your input.\")\n",
    "            return \"Maximum context length exceeded\"\n",
    "        else:\n",
    "            print(\"An unexpected error occurred:\", e)\n",
    "            return \"An unexpected error occurred\"\n",
    "\n",
    "\n",
    "def num_tokens_from_string(string: str, encoding_name: str) -> int:\n",
    "    \"\"\"Returns the number of tokens in a text string.\"\"\"\n",
    "    encoding = tiktoken.get_encoding(encoding_name)\n",
    "    num_tokens = len(encoding.encode(string))\n",
    "    return num_tokens"
   ]
  },
  {
   "cell_type": "code",
   "execution_count": 15,
   "id": "922642c2-1781-4797-bca7-0a15cc29b41f",
   "metadata": {},
   "outputs": [],
   "source": [
    "def render():\n",
    "    model = SentenceTransformer('sentence-transformers/all-MiniLM-L6-v2')\n",
    "    # React to user input\n",
    "    while True:\n",
    "        question = input(\"Ask a question\")\n",
    "        reply = f\"You asked: {question}\"\n",
    "        prompt = get_prompt(model, question)\n",
    "        response = getOpenAIGPT35(prompt)\n",
    "        print(response)\n",
    "        print(\"--------------------------------\")"
   ]
  },
  {
   "cell_type": "code",
   "execution_count": null,
   "id": "b84cafca-1c5f-44b7-8bbe-ab37f91f3586",
   "metadata": {},
   "outputs": [
    {
     "name": "stdin",
     "output_type": "stream",
     "text": [
      "Ask a question recommend an italian movie\n"
     ]
    },
    {
     "name": "stdout",
     "output_type": "stream",
     "text": [
      "I recommend you watch **La Dolce Vita**. It is an Italian comedy-drama film starring Marcello Mastroianni. The movie follows the story of a journalist named Marcello who struggles to find his place in the world, torn between the allure of Rome's elite social scene and the stifling domesticity offered by his girlfriend, all the while searching for a way to become a serious writer. With a score of 82.0, it is highly regarded and explores themes of love, desire, and existentialism in mid-century Italy. Enjoy!\n",
      "--------------------------------\n"
     ]
    },
    {
     "name": "stdin",
     "output_type": "stream",
     "text": [
      "Ask a question raccomandami un film italiano\n"
     ]
    },
    {
     "name": "stdout",
     "output_type": "stream",
     "text": [
      "Based on the information in the database, I recommend the movie \"La Dolce Vita.\" \n",
      "\n",
      "- Movie title: La Dolce Vita\n",
      "- Genre: Comedy, Drama\n",
      "- Crew: Marcello Mastroianni, Anita Ekberg, Anouk Aimée, Yvonne Furneaux, Magali Noël, and more\n",
      "- Score: 82.0\n",
      "\n",
      "Overview: Journalist and man-about-town Marcello struggles to find his place in the world, torn between the allure of Rome's elite social scene and the stifling domesticity offered by his girlfriend, all the while searching for a way to become a serious writer.\n",
      "\n",
      "Enjoy the movie!\n",
      "--------------------------------\n"
     ]
    },
    {
     "name": "stdin",
     "output_type": "stream",
     "text": [
      "Ask a question raccomandami un film italiano e rispondi in italiano\n"
     ]
    },
    {
     "name": "stdout",
     "output_type": "stream",
     "text": [
      "Mi dispiace, non posso rispondere in italiano. Tuttavia, posso consigliarti alcuni film italiani in base alle informazioni fornite:\n",
      "\n",
      "1. How Funny Can Sex Be? (57.0): Questo film è una raccolta di nove episodi che affronta il tema dell'amore, del sesso e del matrimonio nella contemporaneità dell'Italia degli anni '70.\n",
      "\n",
      "2. La Dolce Vita (82.0): Un giornalista, Marcello, si trova in bilico tra la scena sociale élite di Roma e la vita domestica proposta dalla sua fidanzata, mentre cerca di trovare il suo posto nel mondo e diventare uno scrittore serio.\n",
      "\n",
      "Spero che queste raccomandazioni siano di tuo interesse!\n",
      "--------------------------------\n"
     ]
    },
    {
     "name": "stdin",
     "output_type": "stream",
     "text": [
      "Ask a question chi è il direttore di Interstellar?\n"
     ]
    },
    {
     "name": "stdout",
     "output_type": "stream",
     "text": [
      "The movie \"The Science of Interstellar\" is a documentary about Christopher Nolan's sci-fi film \"Interstellar\". While the movie focuses on the scientific foundations, themes, and visuals of \"Interstellar\", it does not mention the director of the film. Therefore, based on the information provided, I am unable to answer the question about the director of \"Interstellar\".\n",
      "--------------------------------\n"
     ]
    },
    {
     "name": "stdin",
     "output_type": "stream",
     "text": [
      "Ask a question what is the score of interstellar?\n"
     ]
    },
    {
     "name": "stdout",
     "output_type": "stream",
     "text": [
      "The score of \"Interstellar\" is 84.0.\n",
      "--------------------------------\n"
     ]
    }
   ],
   "source": [
    "render()"
   ]
  }
 ],
 "metadata": {
  "kernelspec": {
   "display_name": "Python 3 (ipykernel)",
   "language": "python",
   "name": "python3"
  },
  "language_info": {
   "codemirror_mode": {
    "name": "ipython",
    "version": 3
   },
   "file_extension": ".py",
   "mimetype": "text/x-python",
   "name": "python",
   "nbconvert_exporter": "python",
   "pygments_lexer": "ipython3",
   "version": "3.9.6"
  }
 },
 "nbformat": 4,
 "nbformat_minor": 5
}
